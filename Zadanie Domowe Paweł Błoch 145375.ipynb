{
 "cells": [
  {
   "cell_type": "markdown",
   "metadata": {},
   "source": [
    "Paweł Błoch <br>\n",
    "145375 <br>\n",
    "grupa 3.1  <br>"
   ]
  },
  {
   "cell_type": "markdown",
   "metadata": {},
   "source": [
    "# Zadanie domowe wersja podstawowa"
   ]
  },
  {
   "cell_type": "markdown",
   "metadata": {},
   "source": [
    "## Źródło danych\n"
   ]
  },
  {
   "cell_type": "markdown",
   "metadata": {},
   "source": [
    "Dane pochodzą z bazy kaggle  [źródło]( https://www.kaggle.com/prashant111/student-alcohol-consumption?select=student_mat.csv). Dane te zostały zebrane podczas przeprowadzonej ankiety wśród uczniów kierunku matematyka w szkole średniej. Tabela składa się z 33 kolumn i 395 wierszy. W każdym wierszu zapisane są odpowiedzi uzyskane od jednego unikalnego ucznia. Znaczenie wszystkich kolumn można znaleźć [tutaj](https://www.kaggle.com/prashant111/student-alcohol-consumption?select=student_mat.csv). Analizie zostałe poddane wybrane kolumny ze zbioru danych. Zbiór danych zawiera bardzo dużo informacji o charakterze społecznym oraz demograficznym i to głównie te dane zostały przeanalizowane. Dane powstały w wyniku ankiety przeprowadzonej w szkole w Stanach Zjednoczonych. \n"
   ]
  },
  {
   "cell_type": "markdown",
   "metadata": {},
   "source": [
    "# Wczytanie i przedstawienie danych"
   ]
  },
  {
   "cell_type": "code",
   "execution_count": 1,
   "metadata": {},
   "outputs": [],
   "source": [
    "data<-read.csv(file='student_mat.csv')"
   ]
  },
  {
   "cell_type": "markdown",
   "metadata": {},
   "source": [
    "Dane zostały wczytane z pliku lokalnego a nie z zewnętrznej strony z uwagi na zagrożenie związane z używaniem zewnętrznych serwisów. Poniżej można zobaczyć w przykładowe wiersze tabeli wraz z kolumnami.\n"
   ]
  },
  {
   "cell_type": "code",
   "execution_count": 2,
   "metadata": {},
   "outputs": [
    {
     "data": {
      "text/html": [
       "<table class=\"dataframe\">\n",
       "<caption>A data.frame: 6 × 33</caption>\n",
       "<thead>\n",
       "\t<tr><th></th><th scope=col>school</th><th scope=col>sex</th><th scope=col>age</th><th scope=col>address</th><th scope=col>famsize</th><th scope=col>pstatus</th><th scope=col>medu</th><th scope=col>fedu</th><th scope=col>mjob</th><th scope=col>fjob</th><th scope=col>⋯</th><th scope=col>famrel</th><th scope=col>freetime</th><th scope=col>goout</th><th scope=col>dalc</th><th scope=col>walc</th><th scope=col>health</th><th scope=col>absences</th><th scope=col>g1</th><th scope=col>g2</th><th scope=col>g3</th></tr>\n",
       "\t<tr><th></th><th scope=col>&lt;fct&gt;</th><th scope=col>&lt;fct&gt;</th><th scope=col>&lt;int&gt;</th><th scope=col>&lt;fct&gt;</th><th scope=col>&lt;fct&gt;</th><th scope=col>&lt;fct&gt;</th><th scope=col>&lt;int&gt;</th><th scope=col>&lt;int&gt;</th><th scope=col>&lt;fct&gt;</th><th scope=col>&lt;fct&gt;</th><th scope=col>⋯</th><th scope=col>&lt;int&gt;</th><th scope=col>&lt;int&gt;</th><th scope=col>&lt;int&gt;</th><th scope=col>&lt;int&gt;</th><th scope=col>&lt;int&gt;</th><th scope=col>&lt;int&gt;</th><th scope=col>&lt;int&gt;</th><th scope=col>&lt;int&gt;</th><th scope=col>&lt;int&gt;</th><th scope=col>&lt;int&gt;</th></tr>\n",
       "</thead>\n",
       "<tbody>\n",
       "\t<tr><th scope=row>1</th><td>GP</td><td>F</td><td>18</td><td>U</td><td>GT3</td><td>A</td><td>4</td><td>4</td><td>at_home </td><td>teacher </td><td>⋯</td><td>4</td><td>3</td><td>4</td><td>1</td><td>1</td><td>3</td><td> 6</td><td> 5</td><td> 6</td><td> 6</td></tr>\n",
       "\t<tr><th scope=row>2</th><td>GP</td><td>F</td><td>17</td><td>U</td><td>GT3</td><td>T</td><td>1</td><td>1</td><td>at_home </td><td>other   </td><td>⋯</td><td>5</td><td>3</td><td>3</td><td>1</td><td>1</td><td>3</td><td> 4</td><td> 5</td><td> 5</td><td> 6</td></tr>\n",
       "\t<tr><th scope=row>3</th><td>GP</td><td>F</td><td>15</td><td>U</td><td>LE3</td><td>T</td><td>1</td><td>1</td><td>at_home </td><td>other   </td><td>⋯</td><td>4</td><td>3</td><td>2</td><td>2</td><td>3</td><td>3</td><td>10</td><td> 7</td><td> 8</td><td>10</td></tr>\n",
       "\t<tr><th scope=row>4</th><td>GP</td><td>F</td><td>15</td><td>U</td><td>GT3</td><td>T</td><td>4</td><td>2</td><td>health  </td><td>services</td><td>⋯</td><td>3</td><td>2</td><td>2</td><td>1</td><td>1</td><td>5</td><td> 2</td><td>15</td><td>14</td><td>15</td></tr>\n",
       "\t<tr><th scope=row>5</th><td>GP</td><td>F</td><td>16</td><td>U</td><td>GT3</td><td>T</td><td>3</td><td>3</td><td>other   </td><td>other   </td><td>⋯</td><td>4</td><td>3</td><td>2</td><td>1</td><td>2</td><td>5</td><td> 4</td><td> 6</td><td>10</td><td>10</td></tr>\n",
       "\t<tr><th scope=row>6</th><td>GP</td><td>M</td><td>16</td><td>U</td><td>LE3</td><td>T</td><td>4</td><td>3</td><td>services</td><td>other   </td><td>⋯</td><td>5</td><td>4</td><td>2</td><td>1</td><td>2</td><td>5</td><td>10</td><td>15</td><td>15</td><td>15</td></tr>\n",
       "</tbody>\n",
       "</table>\n"
      ],
      "text/latex": [
       "A data.frame: 6 × 33\n",
       "\\begin{tabular}{r|lllllllllllllllllllll}\n",
       "  & school & sex & age & address & famsize & pstatus & medu & fedu & mjob & fjob & ⋯ & famrel & freetime & goout & dalc & walc & health & absences & g1 & g2 & g3\\\\\n",
       "  & <fct> & <fct> & <int> & <fct> & <fct> & <fct> & <int> & <int> & <fct> & <fct> & ⋯ & <int> & <int> & <int> & <int> & <int> & <int> & <int> & <int> & <int> & <int>\\\\\n",
       "\\hline\n",
       "\t1 & GP & F & 18 & U & GT3 & A & 4 & 4 & at\\_home  & teacher  & ⋯ & 4 & 3 & 4 & 1 & 1 & 3 &  6 &  5 &  6 &  6\\\\\n",
       "\t2 & GP & F & 17 & U & GT3 & T & 1 & 1 & at\\_home  & other    & ⋯ & 5 & 3 & 3 & 1 & 1 & 3 &  4 &  5 &  5 &  6\\\\\n",
       "\t3 & GP & F & 15 & U & LE3 & T & 1 & 1 & at\\_home  & other    & ⋯ & 4 & 3 & 2 & 2 & 3 & 3 & 10 &  7 &  8 & 10\\\\\n",
       "\t4 & GP & F & 15 & U & GT3 & T & 4 & 2 & health   & services & ⋯ & 3 & 2 & 2 & 1 & 1 & 5 &  2 & 15 & 14 & 15\\\\\n",
       "\t5 & GP & F & 16 & U & GT3 & T & 3 & 3 & other    & other    & ⋯ & 4 & 3 & 2 & 1 & 2 & 5 &  4 &  6 & 10 & 10\\\\\n",
       "\t6 & GP & M & 16 & U & LE3 & T & 4 & 3 & services & other    & ⋯ & 5 & 4 & 2 & 1 & 2 & 5 & 10 & 15 & 15 & 15\\\\\n",
       "\\end{tabular}\n"
      ],
      "text/markdown": [
       "\n",
       "A data.frame: 6 × 33\n",
       "\n",
       "| <!--/--> | school &lt;fct&gt; | sex &lt;fct&gt; | age &lt;int&gt; | address &lt;fct&gt; | famsize &lt;fct&gt; | pstatus &lt;fct&gt; | medu &lt;int&gt; | fedu &lt;int&gt; | mjob &lt;fct&gt; | fjob &lt;fct&gt; | ⋯ ⋯ | famrel &lt;int&gt; | freetime &lt;int&gt; | goout &lt;int&gt; | dalc &lt;int&gt; | walc &lt;int&gt; | health &lt;int&gt; | absences &lt;int&gt; | g1 &lt;int&gt; | g2 &lt;int&gt; | g3 &lt;int&gt; |\n",
       "|---|---|---|---|---|---|---|---|---|---|---|---|---|---|---|---|---|---|---|---|---|---|\n",
       "| 1 | GP | F | 18 | U | GT3 | A | 4 | 4 | at_home  | teacher  | ⋯ | 4 | 3 | 4 | 1 | 1 | 3 |  6 |  5 |  6 |  6 |\n",
       "| 2 | GP | F | 17 | U | GT3 | T | 1 | 1 | at_home  | other    | ⋯ | 5 | 3 | 3 | 1 | 1 | 3 |  4 |  5 |  5 |  6 |\n",
       "| 3 | GP | F | 15 | U | LE3 | T | 1 | 1 | at_home  | other    | ⋯ | 4 | 3 | 2 | 2 | 3 | 3 | 10 |  7 |  8 | 10 |\n",
       "| 4 | GP | F | 15 | U | GT3 | T | 4 | 2 | health   | services | ⋯ | 3 | 2 | 2 | 1 | 1 | 5 |  2 | 15 | 14 | 15 |\n",
       "| 5 | GP | F | 16 | U | GT3 | T | 3 | 3 | other    | other    | ⋯ | 4 | 3 | 2 | 1 | 2 | 5 |  4 |  6 | 10 | 10 |\n",
       "| 6 | GP | M | 16 | U | LE3 | T | 4 | 3 | services | other    | ⋯ | 5 | 4 | 2 | 1 | 2 | 5 | 10 | 15 | 15 | 15 |\n",
       "\n"
      ],
      "text/plain": [
       "  school sex age address famsize pstatus medu fedu mjob     fjob     ⋯ famrel\n",
       "1 GP     F   18  U       GT3     A       4    4    at_home  teacher  ⋯ 4     \n",
       "2 GP     F   17  U       GT3     T       1    1    at_home  other    ⋯ 5     \n",
       "3 GP     F   15  U       LE3     T       1    1    at_home  other    ⋯ 4     \n",
       "4 GP     F   15  U       GT3     T       4    2    health   services ⋯ 3     \n",
       "5 GP     F   16  U       GT3     T       3    3    other    other    ⋯ 4     \n",
       "6 GP     M   16  U       LE3     T       4    3    services other    ⋯ 5     \n",
       "  freetime goout dalc walc health absences g1 g2 g3\n",
       "1 3        4     1    1    3       6        5  6  6\n",
       "2 3        3     1    1    3       4        5  5  6\n",
       "3 3        2     2    3    3      10        7  8 10\n",
       "4 2        2     1    1    5       2       15 14 15\n",
       "5 3        2     1    2    5       4        6 10 10\n",
       "6 4        2     1    2    5      10       15 15 15"
      ]
     },
     "metadata": {},
     "output_type": "display_data"
    }
   ],
   "source": [
    "head(data)"
   ]
  },
  {
   "cell_type": "markdown",
   "metadata": {},
   "source": [
    "# Analiza eksploracyjna"
   ]
  },
  {
   "cell_type": "markdown",
   "metadata": {},
   "source": [
    "Analizę eksploracyjną rozpoczniemy od wstępnego przeanalizowania interesujących nas kolumn. Analizę tę oprzemy na podstawie narysowanych wykresów jak i dokonanych obliczeń.\n"
   ]
  },
  {
   "cell_type": "markdown",
   "metadata": {},
   "source": [
    "## Płęć"
   ]
  },
  {
   "cell_type": "markdown",
   "metadata": {},
   "source": [
    "Strukturę płci uczestników odczytamy z kolumny \"sex\". "
   ]
  },
  {
   "cell_type": "code",
   "execution_count": 3,
   "metadata": {},
   "outputs": [
    {
     "data": {
      "text/plain": [
       " sex    \n",
       " F:208  \n",
       " M:187  "
      ]
     },
     "metadata": {},
     "output_type": "display_data"
    },
    {
     "data": {
      "text/html": [
       "<span style=white-space:pre-wrap>'Stosunek liczby kobiet to liczby mężczyzn:  1.112'</span>"
      ],
      "text/latex": [
       "'Stosunek liczby kobiet to liczby mężczyzn:  1.112'"
      ],
      "text/markdown": [
       "<span style=white-space:pre-wrap>'Stosunek liczby kobiet to liczby mężczyzn:  1.112'</span>"
      ],
      "text/plain": [
       "[1] \"Stosunek liczby kobiet to liczby mężczyzn:  1.112\""
      ]
     },
     "metadata": {},
     "output_type": "display_data"
    }
   ],
   "source": [
    "sex<-summary(data['sex'])\n",
    "sex\n",
    "paste(\"Stosunek liczby kobiet to liczby mężczyzn: \",round(length(which(data['sex']=='F'))/length(which(data['sex']=='M')),3))[1]"
   ]
  },
  {
   "cell_type": "markdown",
   "metadata": {},
   "source": [
    "Obserwujemy tutaj lekką przewagę w liczebności kobiet które stanowią 1.112 liczby mężczyzn."
   ]
  },
  {
   "cell_type": "markdown",
   "metadata": {},
   "source": [
    "# Wiek\n"
   ]
  },
  {
   "cell_type": "markdown",
   "metadata": {},
   "source": [
    "Strukturę wieku odczytaym z kolumny \"age\". Zawiera ona liczby całkowite reprezentujące liczbę lat danego ankietowanego.\n"
   ]
  },
  {
   "cell_type": "code",
   "execution_count": 4,
   "metadata": {},
   "outputs": [
    {
     "data": {
      "text/plain": [
       "   Min. 1st Qu.  Median    Mean 3rd Qu.    Max. \n",
       "   15.0    16.0    17.0    16.7    18.0    22.0 "
      ]
     },
     "metadata": {},
     "output_type": "display_data"
    }
   ],
   "source": [
    "age<-t(data['age'])\n",
    "summary(as.vector(age))"
   ]
  },
  {
   "cell_type": "markdown",
   "metadata": {},
   "source": [
    "Wyniki uzyskane za pomocą funkcji summary widzimy powyżej. Możemy zauważyć, że średnia jest porównywalna z medianą. Poniżej narysujemy histogram danych wieku."
   ]
  },
  {
   "cell_type": "code",
   "execution_count": 50,
   "metadata": {},
   "outputs": [
    {
     "data": {
      "image/png": "[encoded data removed]",
      "text/plain": [
       "Plot with title “histogram wieku”"
      ]
     },
     "metadata": {
      "image/png": {
       "height": 420,
       "width": 420
      }
     },
     "output_type": "display_data"
    }
   ],
   "source": [
    "hist(t(data['age']), breaks=5,xlab=\"wiek\", ylab=\"liczność\", main=\"histogram wieku\")"
   ]
  },
  {
   "cell_type": "markdown",
   "metadata": {},
   "source": [
    "Patrząc na histogram widzimy, że rozkład ma asymetrię prawoskośną. Spróbujemy teraz policzyć współcznik asymetrii i zwerfikujemy naszą obserwację z wykresu.\n"
   ]
  },
  {
   "cell_type": "code",
   "execution_count": 6,
   "metadata": {},
   "outputs": [
    {
     "data": {
      "text/html": [
       "0.464"
      ],
      "text/latex": [
       "0.464"
      ],
      "text/markdown": [
       "0.464"
      ],
      "text/plain": [
       "[1] 0.464"
      ]
     },
     "metadata": {},
     "output_type": "display_data"
    }
   ],
   "source": [
    "central_moment= function (vector, rank)\n",
    "{\n",
    "    mean((vector-mean(vector))^rank)\n",
    "}\n",
    "std=function(vector)\n",
    "{\n",
    "    sqrt(sum((vector-mean(vector))^2)/(length(vector)))\n",
    "}\n",
    "skewness =function (vector)\n",
    "{\n",
    "    central_moment(vector,3)/(std(vector)^3)\n",
    "}\n",
    "round(skewness(age),3)"
   ]
  },
  {
   "cell_type": "markdown",
   "metadata": {},
   "source": [
    "Widzimy, że współczynnik skośności jest  wyraźnie dodatni co zgadza się z naszymi spostrzerzeniamia na temat wykresu."
   ]
  },
  {
   "cell_type": "markdown",
   "metadata": {},
   "source": [
    "# Czas nauki"
   ]
  },
  {
   "cell_type": "markdown",
   "metadata": {},
   "source": [
    "Czas nauki w ankiecie został określony przez dodatnią liczbę całkowitą, określającą ilość spędzonego czasu na naukę w tygodniu."
   ]
  },
  {
   "cell_type": "code",
   "execution_count": 7,
   "metadata": {},
   "outputs": [
    {
     "data": {
      "image/png": "[encoded data removed]",
      "text/plain": [
       "Plot with title “Histogram czasu nauki”"
      ]
     },
     "metadata": {
      "image/png": {
       "height": 420,
       "width": 420
      }
     },
     "output_type": "display_data"
    }
   ],
   "source": [
    "studytime<-t(data['studytime'])\n",
    "hist(studytime, breaks=0:4, xlab=\"czas nauki\", ylab=\"ilość uczniów\", main=\"Histogram czasu nauki\")"
   ]
  },
  {
   "cell_type": "markdown",
   "metadata": {},
   "source": [
    "Histogram czasu nauki został narysowany powyżej. Widzimy na nim mocną koncetrację wyników na poziomie 2 godzin. Potwierdzić to może bliskość mediany i średniej. Wykres ten jest jednomodalny. Poniżej pokażemy wartości statystyk opisowych z użyciem funkcji $summary$. Skośność możemy określić jako prawostronną."
   ]
  },
  {
   "cell_type": "code",
   "execution_count": 8,
   "metadata": {},
   "outputs": [
    {
     "data": {
      "text/plain": [
       "   Min. 1st Qu.  Median    Mean 3rd Qu.    Max. \n",
       "  1.000   1.000   2.000   2.035   2.000   4.000 "
      ]
     },
     "metadata": {},
     "output_type": "display_data"
    }
   ],
   "source": [
    "summary(as.vector(studytime))"
   ]
  },
  {
   "cell_type": "markdown",
   "metadata": {},
   "source": [
    "Korzystając powyżej z funkcji $summary$ widzimy, że faktycznie mediana i średnia są sobie bliskie."
   ]
  },
  {
   "cell_type": "markdown",
   "metadata": {},
   "source": [
    "# Zawody rodziców\n",
    "\n"
   ]
  },
  {
   "cell_type": "markdown",
   "metadata": {},
   "source": [
    "Przeanalizujemy zawody rodzciów uczniów biorących udział w ankiecie. "
   ]
  },
  {
   "cell_type": "code",
   "execution_count": 9,
   "metadata": {},
   "outputs": [
    {
     "data": {
      "image/png": "[encoded data removed]",
      "text/plain": [
       "Plot with title “Liczność poszczególnych zawodów wśród matek uczniów”"
      ]
     },
     "metadata": {
      "image/png": {
       "height": 420,
       "width": 420
      }
     },
     "output_type": "display_data"
    }
   ],
   "source": [
    "plot_mjob<-plot(data['mjob'], main=\"Liczność poszczególnych zawodów wśród matek uczniów\")"
   ]
  },
  {
   "cell_type": "code",
   "execution_count": 10,
   "metadata": {},
   "outputs": [
    {
     "data": {
      "image/png": "[encoded data removed]",
      "text/plain": [
       "Plot with title “Liczność poszczególnych zawodów wśród ojców uczniów”"
      ]
     },
     "metadata": {
      "image/png": {
       "height": 420,
       "width": 420
      }
     },
     "output_type": "display_data"
    }
   ],
   "source": [
    "plot_fjob<-plot(data['fjob'], main=\"Liczność poszczególnych zawodów wśród ojców uczniów\")\n"
   ]
  },
  {
   "cell_type": "markdown",
   "metadata": {},
   "source": [
    "Na obu wykresach widzimy, że najczęściej udzielaną odpowiedzią była opcja \"other\". Jest to dosyć ogólna odpowiedź i ciężko na jej podstawie wyciągnąć miarodajne wnioski.\n"
   ]
  },
  {
   "cell_type": "markdown",
   "metadata": {},
   "source": [
    "# Powód wybrania szkoły"
   ]
  },
  {
   "cell_type": "markdown",
   "metadata": {},
   "source": [
    "Analizę powodu wybrania naszej szkoły podzielimy ze względu na kilka kategorii. Przedstawimy dane w postaci liczbowej jak i zaprezentujemy je na wykresie."
   ]
  },
  {
   "cell_type": "markdown",
   "metadata": {},
   "source": [
    "## Podział ze względu na płeć"
   ]
  },
  {
   "cell_type": "code",
   "execution_count": 11,
   "metadata": {},
   "outputs": [
    {
     "data": {
      "image/png": "[encoded data removed]",
      "text/plain": [
       "Plot with title “Mężczyźni”"
      ]
     },
     "metadata": {
      "image/png": {
       "height": 420,
       "width": 420
      }
     },
     "output_type": "display_data"
    },
    {
     "data": {
      "image/png": "[encoded data removed]",
      "text/plain": [
       "Plot with title “Kobiety”"
      ]
     },
     "metadata": {
      "image/png": {
       "height": 420,
       "width": 420
      }
     },
     "output_type": "display_data"
    }
   ],
   "source": [
    "sex_M_data<- data[data$sex==\"M\",]\n",
    "sex_F_data<- data[data$sex==\"F\",]\n",
    "plot(sex_F_data[\"reason\"],main=\"Mężczyźni\")\n",
    "plot(sex_M_data[\"reason\"], main=\"Kobiety\")"
   ]
  },
  {
   "cell_type": "code",
   "execution_count": 12,
   "metadata": {},
   "outputs": [
    {
     "data": {
      "text/plain": [
       "Male\n",
       "    course       home      other reputation \n",
       "        73         56         18         40 "
      ]
     },
     "metadata": {},
     "output_type": "display_data"
    },
    {
     "data": {
      "text/plain": [
       "Female\n",
       "    course       home      other reputation \n",
       "        72         53         18         65 "
      ]
     },
     "metadata": {},
     "output_type": "display_data"
    }
   ],
   "source": [
    "table(sex_M_data[\"reason\"],dnn=\"Male\" )\n",
    "table(sex_F_data[\"reason\"], dnn=\"Female\")"
   ]
  },
  {
   "cell_type": "markdown",
   "metadata": {},
   "source": [
    "Widzimy, że rozkład wyników jest zbliżony do siebie. Widać różnicę w kategorii \"reputation\", gdzie większy wynik jest wśród kobiet."
   ]
  },
  {
   "cell_type": "markdown",
   "metadata": {},
   "source": [
    "## Podział ze względu na miejsce zamieszkania"
   ]
  },
  {
   "cell_type": "code",
   "execution_count": 13,
   "metadata": {},
   "outputs": [
    {
     "data": {
      "image/png": "[encoded data removed]",
      "text/plain": [
       "Plot with title “teren miejski”"
      ]
     },
     "metadata": {
      "image/png": {
       "height": 420,
       "width": 420
      }
     },
     "output_type": "display_data"
    },
    {
     "data": {
      "image/png": "[encoded data removed]",
      "text/plain": [
       "Plot with title “teren wiejski”"
      ]
     },
     "metadata": {
      "image/png": {
       "height": 420,
       "width": 420
      }
     },
     "output_type": "display_data"
    }
   ],
   "source": [
    "address_U_data<- data[data$address==\"U\",]\n",
    "address_R_data<- data[data$address==\"R\",]\n",
    "plot(address_U_data[\"reason\"], main=\"teren miejski\")\n",
    "plot(address_R_data[\"reason\"], main=\"teren wiejski\")"
   ]
  },
  {
   "cell_type": "markdown",
   "metadata": {},
   "source": [
    "Widzimy tutaj znaczną różnicę w kategorii \"home\". Może na to wpływać, fakt iż szkoła jest położona w mieście. Powoduje to, że prawdopodobnie uczniowie pochodzący z rejonów wiejskich mają mają dalszą drogę do szkoły niż osoby które miejszkają na teranach miejskich.\n"
   ]
  },
  {
   "cell_type": "markdown",
   "metadata": {},
   "source": [
    "# Czas podróży do szkoły"
   ]
  },
  {
   "cell_type": "markdown",
   "metadata": {},
   "source": [
    "Przeanalizujemy czas podróży uczniów do szkoły. Narysujemy w tym celu histogram."
   ]
  },
  {
   "cell_type": "code",
   "execution_count": 49,
   "metadata": {},
   "outputs": [
    {
     "data": {
      "image/png": "[encoded data removed]",
      "text/plain": [
       "Plot with title “histogram czasu dojazdu do szkoły”"
      ]
     },
     "metadata": {
      "image/png": {
       "height": 420,
       "width": 420
      }
     },
     "output_type": "display_data"
    }
   ],
   "source": [
    "barplot(table(t(data[\"traveltime\"])), ylab=\"ilość\", xlab=\"czas dojazdu [h]\", main=\"histogram czasu dojazdu do szkoły\")"
   ]
  },
  {
   "cell_type": "markdown",
   "metadata": {},
   "source": [
    "Widzimy, że rozkład jest bardzo mocno prawoskośny. Wykres jest też jednomodalny. Spojrzymy teraz, jak na rozkład wpływa podział uczniów ze względu na miejsce zamieszkania.\n"
   ]
  },
  {
   "cell_type": "code",
   "execution_count": 15,
   "metadata": {},
   "outputs": [
    {
     "data": {
      "image/png": "[encoded data removed]",
      "text/plain": [
       "Plot with title “teren miejski”"
      ]
     },
     "metadata": {
      "image/png": {
       "height": 420,
       "width": 420
      }
     },
     "output_type": "display_data"
    },
    {
     "data": {
      "image/png": "[encoded data removed]",
      "text/plain": [
       "Plot with title “teren wiejski”"
      ]
     },
     "metadata": {
      "image/png": {
       "height": 420,
       "width": 420
      }
     },
     "output_type": "display_data"
    }
   ],
   "source": [
    "barplot(table(t(address_U_data[\"traveltime\"])), main=\"teren miejski\", ylab=\"ilość\", xlab=\"czas dojazdu [h]\")\n",
    "barplot(table(t(address_R_data[\"traveltime\"])), main=\"teren wiejski\",ylab=\"ilość\", xlab=\"czas dojazdu [h]\")"
   ]
  },
  {
   "cell_type": "markdown",
   "metadata": {},
   "source": [
    "Widzimy, że uczniowie mieszkający na teranach wiejskich dojeżdżają dłużej od uczniów mieszkających na teranach miejskich. Spojrzymy jeszcze na średnią arytmetyczną wyników."
   ]
  },
  {
   "cell_type": "code",
   "execution_count": 16,
   "metadata": {},
   "outputs": [
    {
     "data": {
      "text/html": [
       "<span style=white-space:pre-wrap>'Mean   :1.326  '</span>"
      ],
      "text/latex": [
       "'Mean   :1.326  '"
      ],
      "text/markdown": [
       "<span style=white-space:pre-wrap>'Mean   :1.326  '</span>"
      ],
      "text/plain": [
       "[1] \"Mean   :1.326  \""
      ]
     },
     "metadata": {},
     "output_type": "display_data"
    },
    {
     "data": {
      "text/html": [
       "<span style=white-space:pre-wrap>'Mean   :1.875  '</span>"
      ],
      "text/latex": [
       "'Mean   :1.875  '"
      ],
      "text/markdown": [
       "<span style=white-space:pre-wrap>'Mean   :1.875  '</span>"
      ],
      "text/plain": [
       "[1] \"Mean   :1.875  \""
      ]
     },
     "metadata": {},
     "output_type": "display_data"
    }
   ],
   "source": [
    "summary(address_U_data[\"traveltime\"])[4]\n",
    "summary(address_R_data[\"traveltime\"])[4]"
   ]
  },
  {
   "cell_type": "markdown",
   "metadata": {},
   "source": [
    "# Niepowodzenia przy przechodzeniu do następnej klasy\n",
    "\n"
   ]
  },
  {
   "cell_type": "markdown",
   "metadata": {},
   "source": [
    "Liczba niepowodzeń przy przechodzeniu do następnej klasy znajduję się w kolumnie $failures$. Dane w niej zawarte są całkowitoliczbowe i określają liczbę niepowodzeń przy przechodzeniu do następnej klasy. Poniżej przedstawimy dane zawarte w kolumnie w postaci tabeli, zliczającej poszczególne wyniki."
   ]
  },
  {
   "cell_type": "code",
   "execution_count": 17,
   "metadata": {},
   "outputs": [
    {
     "data": {
      "text/plain": [
       "\n",
       "  0   1   2   3 \n",
       "312  50  17  16 "
      ]
     },
     "metadata": {},
     "output_type": "display_data"
    }
   ],
   "source": [
    "table(t(data['failures']))"
   ]
  },
  {
   "cell_type": "code",
   "execution_count": 18,
   "metadata": {},
   "outputs": [
    {
     "data": {
      "image/png": "[encoded data removed]",
      "text/plain": [
       "Plot with title “wykres dla całej populacji”"
      ]
     },
     "metadata": {
      "image/png": {
       "height": 420,
       "width": 420
      }
     },
     "output_type": "display_data"
    }
   ],
   "source": [
    "barplot(table(t(data['failures'])),main=\"wykres dla całej populacji\", xlab=\"liczba niepowodzeń\", ylab=\"liczność\")"
   ]
  },
  {
   "cell_type": "markdown",
   "metadata": {},
   "source": [
    "Teraz spojrzymy na te dane, patrząc z perspektywy czasu nauki. Narysujemy dwa wykresy, jeden dla grupy uczniów spędzających do 2 godzin na nauce ( jest to mediana) oraz pozostałej grupy uczniów.\n"
   ]
  },
  {
   "cell_type": "code",
   "execution_count": 19,
   "metadata": {
    "scrolled": true
   },
   "outputs": [],
   "source": [
    "short_studytime_data<- data[data$studytime<=2,]\n",
    "long_studytime_data<- data[data$studytime>2,]\n",
    "len_short_studytime_data<-sum(table(t(short_studytime_data['failures'])))\n",
    "len_long_studytime_data<-sum(table(t(long_studytime_data['failures'])))"
   ]
  },
  {
   "cell_type": "code",
   "execution_count": 20,
   "metadata": {},
   "outputs": [
    {
     "data": {
      "image/png": "[encoded data removed]",
      "text/plain": [
       "plot without title"
      ]
     },
     "metadata": {
      "image/png": {
       "height": 420,
       "width": 420
      }
     },
     "output_type": "display_data"
    }
   ],
   "source": [
    "barplot(table(t(long_studytime_data['failures']))/len_long_studytime_data)\n"
   ]
  },
  {
   "cell_type": "code",
   "execution_count": 21,
   "metadata": {},
   "outputs": [
    {
     "data": {
      "image/png": "[encoded data removed]",
      "text/plain": [
       "plot without title"
      ]
     },
     "metadata": {
      "image/png": {
       "height": 420,
       "width": 420
      }
     },
     "output_type": "display_data"
    }
   ],
   "source": [
    "barplot(table(t(short_studytime_data['failures']))/len_short_studytime_data)"
   ]
  },
  {
   "cell_type": "markdown",
   "metadata": {},
   "source": [
    "Widzimy, że różnice jak nie są znaczące. Wartości  na histogramie zostały zrzutowane do przedziału $[0;1]$ aby zachować proporcję.\n"
   ]
  },
  {
   "cell_type": "markdown",
   "metadata": {},
   "source": [
    "# Analiza spożywania alkoholu"
   ]
  },
  {
   "cell_type": "markdown",
   "metadata": {},
   "source": [
    "## Korelacja spożycia w tygodniu oraz weekend"
   ]
  },
  {
   "cell_type": "markdown",
   "metadata": {},
   "source": [
    "Sprawdzimy w jakiej korelacji są wyniki na pytania dotyczącej ilości alkoholu spożywanego przez uczniów w dni powszednie oraz weekend. \n"
   ]
  },
  {
   "cell_type": "code",
   "execution_count": 22,
   "metadata": {},
   "outputs": [
    {
     "data": {
      "text/html": [
       "0.647544230018009"
      ],
      "text/latex": [
       "0.647544230018009"
      ],
      "text/markdown": [
       "0.647544230018009"
      ],
      "text/plain": [
       "[1] 0.6475442"
      ]
     },
     "metadata": {},
     "output_type": "display_data"
    }
   ],
   "source": [
    "cor(data$dalc,data$walc)"
   ]
  },
  {
   "cell_type": "markdown",
   "metadata": {},
   "source": [
    "Wartość korelacji wskazuje nam na umiarkowaną zależność pomiędzy ilością spożywanego alkoholu w weekend oraz w pozostałe dni.\n"
   ]
  },
  {
   "cell_type": "markdown",
   "metadata": {},
   "source": [
    "Spojrzymy teraz na spożycia alkoholu ze względu na płęć ucznia. Narysujemy w tym celu dwa wykresy, jeden dla spożycia alkoholu w weekend a drugi dla spożycia w tygodniu."
   ]
  },
  {
   "cell_type": "code",
   "execution_count": 23,
   "metadata": {},
   "outputs": [
    {
     "data": {
      "image/png": "[encoded data removed]",
      "text/plain": [
       "Plot with title “zależność płci od spożycia alkoholu w tygodniu”"
      ]
     },
     "metadata": {
      "image/png": {
       "height": 420,
       "width": 420
      }
     },
     "output_type": "display_data"
    }
   ],
   "source": [
    "plot(table(data$dalc,data$sex), xlab=\"ilość spożywanego alkoholu \", ylab=\"płeć\", \n",
    "     main=\"zależność płci od spożycia alkoholu w tygodniu\")"
   ]
  },
  {
   "cell_type": "code",
   "execution_count": 24,
   "metadata": {},
   "outputs": [
    {
     "data": {
      "image/png": "[encoded data removed]",
      "text/plain": [
       "Plot with title “zależność płci od spożycia alkoholu w weekend”"
      ]
     },
     "metadata": {
      "image/png": {
       "height": 420,
       "width": 420
      }
     },
     "output_type": "display_data"
    }
   ],
   "source": [
    "plot(table(data$walc,data$sex), xlab=\"ilość spożywanego alkoholu\", ylab=\"płeć\",\n",
    "     main=\"zależność płci od spożycia alkoholu w weekend\")"
   ]
  },
  {
   "cell_type": "markdown",
   "metadata": {},
   "source": [
    "Możemy zauważyć, że w obu przypadkach wraz ze wzrostem ilości spożycia alkoholu maleje liczba kobiet a rośnie liczba mężczyzn.\n"
   ]
  },
  {
   "cell_type": "markdown",
   "metadata": {},
   "source": [
    "# Analiza ocen uczniów\n"
   ]
  },
  {
   "cell_type": "markdown",
   "metadata": {},
   "source": [
    "Spojrzymy teraz na oceny uczniów. W naszych danych mamy zebrane oceny po 2 okresach nauki oraz ocenę końcową. Policzymy współczynnik korelacji dla tych 3 kolumn."
   ]
  },
  {
   "cell_type": "code",
   "execution_count": 25,
   "metadata": {},
   "outputs": [
    {
     "data": {
      "text/html": [
       "0.852118066364806"
      ],
      "text/latex": [
       "0.852118066364806"
      ],
      "text/markdown": [
       "0.852118066364806"
      ],
      "text/plain": [
       "[1] 0.8521181"
      ]
     },
     "metadata": {},
     "output_type": "display_data"
    },
    {
     "data": {
      "text/html": [
       "0.801467932017414"
      ],
      "text/latex": [
       "0.801467932017414"
      ],
      "text/markdown": [
       "0.801467932017414"
      ],
      "text/plain": [
       "[1] 0.8014679"
      ]
     },
     "metadata": {},
     "output_type": "display_data"
    },
    {
     "data": {
      "text/html": [
       "0.904867989269301"
      ],
      "text/latex": [
       "0.904867989269301"
      ],
      "text/markdown": [
       "0.904867989269301"
      ],
      "text/plain": [
       "[1] 0.904868"
      ]
     },
     "metadata": {},
     "output_type": "display_data"
    }
   ],
   "source": [
    "cor(data$g1, data$g2)\n",
    "cor(data$g1, data$g3)\n",
    "cor(data$g2, data$g3)"
   ]
  },
  {
   "cell_type": "markdown",
   "metadata": {},
   "source": [
    "Współczynniki korelacji są bardzo wysokie, przekraczają wartość $0.8$ a współczynnik korelacji pomiędzy oceną za 2 semestr i oceną końcową przekracza wartość $0.9$. Tak wysokie wartości współczynników wskazują na bardzo silną korelację pomiędzy ocenami w poszczególnych okresach nauki."
   ]
  },
  {
   "cell_type": "markdown",
   "metadata": {},
   "source": [
    "Dla dopełnienia analizy narysujemy wykresy zależności ocen w poszczególnych okresach.\n"
   ]
  },
  {
   "cell_type": "code",
   "execution_count": 26,
   "metadata": {},
   "outputs": [
    {
     "data": {
      "image/png": "[encoded data removed]",
      "text/plain": [
       "plot without title"
      ]
     },
     "metadata": {
      "image/png": {
       "height": 420,
       "width": 420
      }
     },
     "output_type": "display_data"
    }
   ],
   "source": [
    "plot(data$g1, data$g2)"
   ]
  },
  {
   "cell_type": "code",
   "execution_count": 27,
   "metadata": {},
   "outputs": [
    {
     "data": {
      "image/png": "[encoded data removed]",
      "text/plain": [
       "plot without title"
      ]
     },
     "metadata": {
      "image/png": {
       "height": 420,
       "width": 420
      }
     },
     "output_type": "display_data"
    }
   ],
   "source": [
    "plot(data$g1, data$g2)"
   ]
  },
  {
   "cell_type": "code",
   "execution_count": 28,
   "metadata": {},
   "outputs": [
    {
     "data": {
      "image/png": "[encoded data removed]",
      "text/plain": [
       "plot without title"
      ]
     },
     "metadata": {
      "image/png": {
       "height": 420,
       "width": 420
      }
     },
     "output_type": "display_data"
    }
   ],
   "source": [
    "plot(data$g2, data$g3)"
   ]
  },
  {
   "cell_type": "markdown",
   "metadata": {},
   "source": [
    "Na podstawie powyższych wykresów może zwerfikować powyższe obliczenia, zauważalna jest silna korelacja liniowa."
   ]
  },
  {
   "cell_type": "markdown",
   "metadata": {},
   "source": [
    "# Testowanie hipotez\n"
   ]
  },
  {
   "cell_type": "markdown",
   "metadata": {},
   "source": [
    "## Test Z, nieznane odchylenie"
   ]
  },
  {
   "cell_type": "markdown",
   "metadata": {},
   "source": [
    "Spróbujemy przeprowadzić badanie hipotezy przy pomocy testu Z i nie znanym odchyleniem standardowym populacji. Wylosujemy do tego grupę 30 studentów i sprawdzimy czy ich średnia wieku jest równa średniej wieku z całej naszej populacji. Użyjemy do tego testu dwustronnego. Za poziom istotności przyjmiemy $\\alpha=0.05$ Układ hipotez wygląda następująco:"
   ]
  },
  {
   "cell_type": "markdown",
   "metadata": {},
   "source": [
    "H0: m=$\\mu$\n",
    "H1: m$\\neq$ $\\mu$"
   ]
  },
  {
   "cell_type": "markdown",
   "metadata": {},
   "source": [
    "Gdzie przez $m$ oznaczyliśmy średnią z wylosowanej próby, a przez $\\mu$ średnią z populacji. Wartość statysyki $Z$ wyliczymy ze wzoru $Z=\\frac{m-\\mu}{S}\\cdot \\sqrt n$ Przejdźmy do obliczeń."
   ]
  },
  {
   "cell_type": "code",
   "execution_count": 29,
   "metadata": {},
   "outputs": [
    {
     "data": {
      "text/html": [
       "<table class=\"dataframe\">\n",
       "<caption>A data.frame: 6 × 33</caption>\n",
       "<thead>\n",
       "\t<tr><th></th><th scope=col>school</th><th scope=col>sex</th><th scope=col>age</th><th scope=col>address</th><th scope=col>famsize</th><th scope=col>pstatus</th><th scope=col>medu</th><th scope=col>fedu</th><th scope=col>mjob</th><th scope=col>fjob</th><th scope=col>⋯</th><th scope=col>famrel</th><th scope=col>freetime</th><th scope=col>goout</th><th scope=col>dalc</th><th scope=col>walc</th><th scope=col>health</th><th scope=col>absences</th><th scope=col>g1</th><th scope=col>g2</th><th scope=col>g3</th></tr>\n",
       "\t<tr><th></th><th scope=col>&lt;fct&gt;</th><th scope=col>&lt;fct&gt;</th><th scope=col>&lt;int&gt;</th><th scope=col>&lt;fct&gt;</th><th scope=col>&lt;fct&gt;</th><th scope=col>&lt;fct&gt;</th><th scope=col>&lt;int&gt;</th><th scope=col>&lt;int&gt;</th><th scope=col>&lt;fct&gt;</th><th scope=col>&lt;fct&gt;</th><th scope=col>⋯</th><th scope=col>&lt;int&gt;</th><th scope=col>&lt;int&gt;</th><th scope=col>&lt;int&gt;</th><th scope=col>&lt;int&gt;</th><th scope=col>&lt;int&gt;</th><th scope=col>&lt;int&gt;</th><th scope=col>&lt;int&gt;</th><th scope=col>&lt;int&gt;</th><th scope=col>&lt;int&gt;</th><th scope=col>&lt;int&gt;</th></tr>\n",
       "</thead>\n",
       "<tbody>\n",
       "\t<tr><th scope=row>219</th><td>GP</td><td>F</td><td>17</td><td>U</td><td>GT3</td><td>T</td><td>2</td><td>3</td><td>at_home</td><td>other</td><td>⋯</td><td>3</td><td>3</td><td>3</td><td>1</td><td>4</td><td>3</td><td>3</td><td> 7</td><td> 7</td><td> 8</td></tr>\n",
       "\t<tr><th scope=row>137</th><td>GP</td><td>M</td><td>17</td><td>R</td><td>GT3</td><td>T</td><td>3</td><td>4</td><td>at_home</td><td>other</td><td>⋯</td><td>5</td><td>4</td><td>5</td><td>2</td><td>4</td><td>5</td><td>0</td><td>10</td><td> 0</td><td> 0</td></tr>\n",
       "\t<tr><th scope=row>157</th><td>GP</td><td>M</td><td>17</td><td>R</td><td>LE3</td><td>T</td><td>1</td><td>2</td><td>other  </td><td>other</td><td>⋯</td><td>2</td><td>2</td><td>2</td><td>3</td><td>3</td><td>5</td><td>8</td><td>16</td><td>12</td><td>13</td></tr>\n",
       "\t<tr><th scope=row>203</th><td>GP</td><td>F</td><td>17</td><td>U</td><td>GT3</td><td>T</td><td>1</td><td>1</td><td>other  </td><td>other</td><td>⋯</td><td>4</td><td>4</td><td>4</td><td>1</td><td>3</td><td>1</td><td>4</td><td> 9</td><td> 9</td><td>10</td></tr>\n",
       "\t<tr><th scope=row>87</th><td>GP</td><td>F</td><td>16</td><td>U</td><td>LE3</td><td>T</td><td>2</td><td>2</td><td>at_home</td><td>other</td><td>⋯</td><td>4</td><td>3</td><td>4</td><td>1</td><td>2</td><td>2</td><td>4</td><td> 8</td><td> 7</td><td> 6</td></tr>\n",
       "\t<tr><th scope=row>198</th><td>GP</td><td>M</td><td>16</td><td>R</td><td>LE3</td><td>T</td><td>3</td><td>3</td><td>teacher</td><td>other</td><td>⋯</td><td>3</td><td>3</td><td>4</td><td>3</td><td>5</td><td>3</td><td>8</td><td> 9</td><td> 9</td><td>10</td></tr>\n",
       "</tbody>\n",
       "</table>\n"
      ],
      "text/latex": [
       "A data.frame: 6 × 33\n",
       "\\begin{tabular}{r|lllllllllllllllllllll}\n",
       "  & school & sex & age & address & famsize & pstatus & medu & fedu & mjob & fjob & ⋯ & famrel & freetime & goout & dalc & walc & health & absences & g1 & g2 & g3\\\\\n",
       "  & <fct> & <fct> & <int> & <fct> & <fct> & <fct> & <int> & <int> & <fct> & <fct> & ⋯ & <int> & <int> & <int> & <int> & <int> & <int> & <int> & <int> & <int> & <int>\\\\\n",
       "\\hline\n",
       "\t219 & GP & F & 17 & U & GT3 & T & 2 & 3 & at\\_home & other & ⋯ & 3 & 3 & 3 & 1 & 4 & 3 & 3 &  7 &  7 &  8\\\\\n",
       "\t137 & GP & M & 17 & R & GT3 & T & 3 & 4 & at\\_home & other & ⋯ & 5 & 4 & 5 & 2 & 4 & 5 & 0 & 10 &  0 &  0\\\\\n",
       "\t157 & GP & M & 17 & R & LE3 & T & 1 & 2 & other   & other & ⋯ & 2 & 2 & 2 & 3 & 3 & 5 & 8 & 16 & 12 & 13\\\\\n",
       "\t203 & GP & F & 17 & U & GT3 & T & 1 & 1 & other   & other & ⋯ & 4 & 4 & 4 & 1 & 3 & 1 & 4 &  9 &  9 & 10\\\\\n",
       "\t87 & GP & F & 16 & U & LE3 & T & 2 & 2 & at\\_home & other & ⋯ & 4 & 3 & 4 & 1 & 2 & 2 & 4 &  8 &  7 &  6\\\\\n",
       "\t198 & GP & M & 16 & R & LE3 & T & 3 & 3 & teacher & other & ⋯ & 3 & 3 & 4 & 3 & 5 & 3 & 8 &  9 &  9 & 10\\\\\n",
       "\\end{tabular}\n"
      ],
      "text/markdown": [
       "\n",
       "A data.frame: 6 × 33\n",
       "\n",
       "| <!--/--> | school &lt;fct&gt; | sex &lt;fct&gt; | age &lt;int&gt; | address &lt;fct&gt; | famsize &lt;fct&gt; | pstatus &lt;fct&gt; | medu &lt;int&gt; | fedu &lt;int&gt; | mjob &lt;fct&gt; | fjob &lt;fct&gt; | ⋯ ⋯ | famrel &lt;int&gt; | freetime &lt;int&gt; | goout &lt;int&gt; | dalc &lt;int&gt; | walc &lt;int&gt; | health &lt;int&gt; | absences &lt;int&gt; | g1 &lt;int&gt; | g2 &lt;int&gt; | g3 &lt;int&gt; |\n",
       "|---|---|---|---|---|---|---|---|---|---|---|---|---|---|---|---|---|---|---|---|---|---|\n",
       "| 219 | GP | F | 17 | U | GT3 | T | 2 | 3 | at_home | other | ⋯ | 3 | 3 | 3 | 1 | 4 | 3 | 3 |  7 |  7 |  8 |\n",
       "| 137 | GP | M | 17 | R | GT3 | T | 3 | 4 | at_home | other | ⋯ | 5 | 4 | 5 | 2 | 4 | 5 | 0 | 10 |  0 |  0 |\n",
       "| 157 | GP | M | 17 | R | LE3 | T | 1 | 2 | other   | other | ⋯ | 2 | 2 | 2 | 3 | 3 | 5 | 8 | 16 | 12 | 13 |\n",
       "| 203 | GP | F | 17 | U | GT3 | T | 1 | 1 | other   | other | ⋯ | 4 | 4 | 4 | 1 | 3 | 1 | 4 |  9 |  9 | 10 |\n",
       "| 87 | GP | F | 16 | U | LE3 | T | 2 | 2 | at_home | other | ⋯ | 4 | 3 | 4 | 1 | 2 | 2 | 4 |  8 |  7 |  6 |\n",
       "| 198 | GP | M | 16 | R | LE3 | T | 3 | 3 | teacher | other | ⋯ | 3 | 3 | 4 | 3 | 5 | 3 | 8 |  9 |  9 | 10 |\n",
       "\n"
      ],
      "text/plain": [
       "    school sex age address famsize pstatus medu fedu mjob    fjob  ⋯ famrel\n",
       "219 GP     F   17  U       GT3     T       2    3    at_home other ⋯ 3     \n",
       "137 GP     M   17  R       GT3     T       3    4    at_home other ⋯ 5     \n",
       "157 GP     M   17  R       LE3     T       1    2    other   other ⋯ 2     \n",
       "203 GP     F   17  U       GT3     T       1    1    other   other ⋯ 4     \n",
       "87  GP     F   16  U       LE3     T       2    2    at_home other ⋯ 4     \n",
       "198 GP     M   16  R       LE3     T       3    3    teacher other ⋯ 3     \n",
       "    freetime goout dalc walc health absences g1 g2 g3\n",
       "219 3        3     1    4    3      3         7  7  8\n",
       "137 4        5     2    4    5      0        10  0  0\n",
       "157 2        2     3    3    5      8        16 12 13\n",
       "203 4        4     1    3    1      4         9  9 10\n",
       "87  3        4     1    2    2      4         8  7  6\n",
       "198 3        4     3    5    3      8         9  9 10"
      ]
     },
     "metadata": {},
     "output_type": "display_data"
    }
   ],
   "source": [
    "sample_data<- data[sample(nrow(data),30),]\n",
    "head(sample_data)\n",
    "alfa<- 0.05"
   ]
  },
  {
   "cell_type": "code",
   "execution_count": 30,
   "metadata": {},
   "outputs": [
    {
     "data": {
      "text/html": [
       "16.6333333333333"
      ],
      "text/latex": [
       "16.6333333333333"
      ],
      "text/markdown": [
       "16.6333333333333"
      ],
      "text/plain": [
       "[1] 16.63333"
      ]
     },
     "metadata": {},
     "output_type": "display_data"
    },
    {
     "data": {
      "text/html": [
       "30"
      ],
      "text/latex": [
       "30"
      ],
      "text/markdown": [
       "30"
      ],
      "text/plain": [
       "[1] 30"
      ]
     },
     "metadata": {},
     "output_type": "display_data"
    }
   ],
   "source": [
    "sample_data<-data[sample(nrow(data),30),]\n",
    "sample_mean<-mean(t(sample_data['age']))\n",
    "sample_mean\n",
    "nrow(sample_data)"
   ]
  },
  {
   "cell_type": "code",
   "execution_count": 31,
   "metadata": {},
   "outputs": [
    {
     "data": {
      "text/html": [
       "16.6962025316456"
      ],
      "text/latex": [
       "16.6962025316456"
      ],
      "text/markdown": [
       "16.6962025316456"
      ],
      "text/plain": [
       "[1] 16.6962"
      ]
     },
     "metadata": {},
     "output_type": "display_data"
    }
   ],
   "source": [
    "population_mean<-mean(t(data['age']))\n",
    "population_mean\n"
   ]
  },
  {
   "cell_type": "code",
   "execution_count": 32,
   "metadata": {},
   "outputs": [
    {
     "data": {
      "text/html": [
       "1.19675487140108"
      ],
      "text/latex": [
       "1.19675487140108"
      ],
      "text/markdown": [
       "1.19675487140108"
      ],
      "text/plain": [
       "[1] 1.196755"
      ]
     },
     "metadata": {},
     "output_type": "display_data"
    }
   ],
   "source": [
    "sample_std<-std(t(sample_data['age']))\n",
    "sample_std"
   ]
  },
  {
   "cell_type": "markdown",
   "metadata": {},
   "source": [
    "Wyznaczamy wartość statystyki testowej $Z$"
   ]
  },
  {
   "cell_type": "code",
   "execution_count": 33,
   "metadata": {},
   "outputs": [
    {
     "data": {
      "text/html": [
       "-0.28773543280056"
      ],
      "text/latex": [
       "-0.28773543280056"
      ],
      "text/markdown": [
       "-0.28773543280056"
      ],
      "text/plain": [
       "[1] -0.2877354"
      ]
     },
     "metadata": {},
     "output_type": "display_data"
    }
   ],
   "source": [
    "Z<- (sample_mean-population_mean)/sample_std*sqrt(nrow(sample_data))\n",
    "Z"
   ]
  },
  {
   "cell_type": "markdown",
   "metadata": {},
   "source": [
    "Wyznaczamy przedział krytyczny\n"
   ]
  },
  {
   "cell_type": "code",
   "execution_count": 34,
   "metadata": {},
   "outputs": [
    {
     "data": {
      "text/html": [
       "-1.95996398454005"
      ],
      "text/latex": [
       "-1.95996398454005"
      ],
      "text/markdown": [
       "-1.95996398454005"
      ],
      "text/plain": [
       "[1] -1.959964"
      ]
     },
     "metadata": {},
     "output_type": "display_data"
    },
    {
     "data": {
      "text/html": [
       "1.95996398454005"
      ],
      "text/latex": [
       "1.95996398454005"
      ],
      "text/markdown": [
       "1.95996398454005"
      ],
      "text/plain": [
       "[1] 1.959964"
      ]
     },
     "metadata": {},
     "output_type": "display_data"
    }
   ],
   "source": [
    "r_end<-qnorm(alfa/2)\n",
    "r_end\n",
    "l_end<-qnorm(1-alfa/2)\n",
    "l_end"
   ]
  },
  {
   "cell_type": "markdown",
   "metadata": {},
   "source": [
    "Zbiór krytyczny ma postać: $(-\\infty;r_{end}) \\cup (l_{end}; \\infty)$"
   ]
  },
  {
   "cell_type": "code",
   "execution_count": 35,
   "metadata": {},
   "outputs": [
    {
     "data": {
      "text/html": [
       "FALSE"
      ],
      "text/latex": [
       "FALSE"
      ],
      "text/markdown": [
       "FALSE"
      ],
      "text/plain": [
       "[1] FALSE"
      ]
     },
     "metadata": {},
     "output_type": "display_data"
    }
   ],
   "source": [
    "r_end> Z || Z> l_end\n"
   ]
  },
  {
   "cell_type": "markdown",
   "metadata": {},
   "source": [
    "Widzimy, że wartość statystyki $Z$ nie znajduje się w zbiorze krytycznym. Nie mamy więc podstaw do odrzucenia hipotezy $H_{0}$."
   ]
  },
  {
   "cell_type": "markdown",
   "metadata": {},
   "source": [
    "# Test dla proporcji\n"
   ]
  },
  {
   "cell_type": "markdown",
   "metadata": {},
   "source": [
    "Przeprowadzimy test dla proporcji osób będącach w związku romantycznym do osób nie będących w takim związku. Nasze dane, potraktujemy jaką pewną próbę i porównamy ją z wynikami dla całej populacji uzyskanymi ze [źródła]\n",
    "(https://www.pewresearch.org/internet/2015/10/01/teens-technology-and-romantic-relationships/)."
   ]
  },
  {
   "cell_type": "markdown",
   "metadata": {},
   "source": [
    "Obliczymy wartość statystyki $Z$ na podstawie wzoru $Z=\\frac{p-p_{0}}{\\sqrt \\frac{p_{0}(1-p_{0})}{n}}$. Tak wyliczona statystyka ma rozkład normlany. Sprawdzimy czy na podstawie naszej próby będziemy mogli prawidłowo wnioskować o całej populacji. Za poziom istotności testu przyjmiemy $\\alpha=0.05$.\n"
   ]
  },
  {
   "cell_type": "code",
   "execution_count": 36,
   "metadata": {},
   "outputs": [
    {
     "data": {
      "text/html": [
       "395"
      ],
      "text/latex": [
       "395"
      ],
      "text/markdown": [
       "395"
      ],
      "text/plain": [
       "[1] 395"
      ]
     },
     "metadata": {},
     "output_type": "display_data"
    },
    {
     "data": {
      "text/html": [
       "0.334177215189873"
      ],
      "text/latex": [
       "0.334177215189873"
      ],
      "text/markdown": [
       "0.334177215189873"
      ],
      "text/plain": [
       "[1] 0.3341772"
      ]
     },
     "metadata": {},
     "output_type": "display_data"
    }
   ],
   "source": [
    "n<-nrow(data)\n",
    "n\n",
    "p<-nrow(data[data$romantic=='true',])/n\n",
    "p\n"
   ]
  },
  {
   "cell_type": "markdown",
   "metadata": {},
   "source": [
    "Z wyżej podanego źródła odczytujemy $p_{0}=0.18$"
   ]
  },
  {
   "cell_type": "code",
   "execution_count": 37,
   "metadata": {},
   "outputs": [],
   "source": [
    "p_0<-0.18\n"
   ]
  },
  {
   "cell_type": "markdown",
   "metadata": {},
   "source": [
    "Stawiamy takie hipotezy:\n",
    "\n",
    "$H_{0}$ : $p=p_{0}$, $H_{1}$: $p\\neq p_{0}$ \n",
    "\n",
    "Obliczamy teraz wartość statystyki $Z$"
   ]
  },
  {
   "cell_type": "code",
   "execution_count": 38,
   "metadata": {},
   "outputs": [
    {
     "data": {
      "text/html": [
       "7.97582407541695"
      ],
      "text/latex": [
       "7.97582407541695"
      ],
      "text/markdown": [
       "7.97582407541695"
      ],
      "text/plain": [
       "[1] 7.975824"
      ]
     },
     "metadata": {},
     "output_type": "display_data"
    }
   ],
   "source": [
    "Z<-(p-p_0)/sqrt((p_0*(1-p_0))/n)\n",
    "Z"
   ]
  },
  {
   "cell_type": "code",
   "execution_count": 39,
   "metadata": {},
   "outputs": [
    {
     "data": {
      "text/html": [
       "-1.95996398454005"
      ],
      "text/latex": [
       "-1.95996398454005"
      ],
      "text/markdown": [
       "-1.95996398454005"
      ],
      "text/plain": [
       "[1] -1.959964"
      ]
     },
     "metadata": {},
     "output_type": "display_data"
    },
    {
     "data": {
      "text/html": [
       "1.95996398454005"
      ],
      "text/latex": [
       "1.95996398454005"
      ],
      "text/markdown": [
       "1.95996398454005"
      ],
      "text/plain": [
       "[1] 1.959964"
      ]
     },
     "metadata": {},
     "output_type": "display_data"
    }
   ],
   "source": [
    "r_end<-qnorm(alfa/2)\n",
    "r_end\n",
    "l_end<-qnorm(1-alfa/2)\n",
    "l_end"
   ]
  },
  {
   "cell_type": "markdown",
   "metadata": {},
   "source": [
    "Zbiór krytyczny ma postać: $(-\\infty;r_{end}) \\cup (l_{end}; \\infty)$\n"
   ]
  },
  {
   "cell_type": "code",
   "execution_count": 40,
   "metadata": {},
   "outputs": [
    {
     "data": {
      "text/html": [
       "TRUE"
      ],
      "text/latex": [
       "TRUE"
      ],
      "text/markdown": [
       "TRUE"
      ],
      "text/plain": [
       "[1] TRUE"
      ]
     },
     "metadata": {},
     "output_type": "display_data"
    }
   ],
   "source": [
    "r_end> Z || Z> l_end"
   ]
  },
  {
   "cell_type": "markdown",
   "metadata": {},
   "source": [
    "Widzimy, że wartość statystyki testowej leży w zbiorze krytycznym co jest dla nas podstawę do odrzucenia hipotezy zerowej i skłonieniu się do stwierdzenia, że na podstawie naszej próby nie możemy poprawnie wnioskować na temat liczby relacji romantycznych w całej populacji."
   ]
  },
  {
   "cell_type": "markdown",
   "metadata": {},
   "source": [
    "# Test Chi-kwadrat"
   ]
  },
  {
   "cell_type": "markdown",
   "metadata": {},
   "source": [
    "Sprawdzimy, czy preferencję wybory szkoły zależy od płci ucznia. Wykorzystamy do tego test dla dwóch populacji i statystykę $\\chi ^2$. Za poziom istotności przyjmiemy $\\alpha=0.01$. Przypomnijmy odpowiednie dane które wykorzystamy.\n"
   ]
  },
  {
   "cell_type": "code",
   "execution_count": 41,
   "metadata": {},
   "outputs": [
    {
     "data": {
      "text/plain": [
       "Male\n",
       "    course       home      other reputation \n",
       "        73         56         18         40 "
      ]
     },
     "metadata": {},
     "output_type": "display_data"
    },
    {
     "data": {
      "text/plain": [
       "Female\n",
       "    course       home      other reputation \n",
       "        72         53         18         65 "
      ]
     },
     "metadata": {},
     "output_type": "display_data"
    }
   ],
   "source": [
    "table(sex_M_data[\"reason\"],dnn=\"Male\" )\n",
    "table(sex_F_data[\"reason\"], dnn=\"Female\")\n",
    "alpha<-0.01"
   ]
  },
  {
   "cell_type": "markdown",
   "metadata": {},
   "source": [
    "Układ hipotez wygląda następująco:\n",
    "\n",
    "$H_{0}$: Brak zależności między płcią a powodami wybrania szkoły\n",
    "\n",
    "$H_{1}$: istnieje zależność między płcią a powodami wybrania szkoły"
   ]
  },
  {
   "cell_type": "code",
   "execution_count": 42,
   "metadata": {},
   "outputs": [],
   "source": [
    "tmp_m_data<-as.vector(t(table(sex_M_data[\"reason\"],dnn=\"Male\" )))\n",
    "tmp_f_data<-as.vector(t(table(sex_F_data[\"reason\"], dnn=\"Female\")))\n",
    "tmp_data<-t(matrix(c(tmp_m_data, tmp_f_data),4,2))"
   ]
  },
  {
   "cell_type": "code",
   "execution_count": 43,
   "metadata": {},
   "outputs": [
    {
     "data": {
      "text/html": [
       "395"
      ],
      "text/latex": [
       "395"
      ],
      "text/markdown": [
       "395"
      ],
      "text/plain": [
       "[1] 395"
      ]
     },
     "metadata": {},
     "output_type": "display_data"
    },
    {
     "data": {
      "text/html": [
       "<style>\n",
       ".list-inline {list-style: none; margin:0; padding: 0}\n",
       ".list-inline>li {display: inline-block}\n",
       ".list-inline>li:not(:last-child)::after {content: \"\\00b7\"; padding: 0 .5ex}\n",
       "</style>\n",
       "<ol class=list-inline><li>187</li><li>208</li></ol>\n"
      ],
      "text/latex": [
       "\\begin{enumerate*}\n",
       "\\item 187\n",
       "\\item 208\n",
       "\\end{enumerate*}\n"
      ],
      "text/markdown": [
       "1. 187\n",
       "2. 208\n",
       "\n",
       "\n"
      ],
      "text/plain": [
       "[1] 187 208"
      ]
     },
     "metadata": {},
     "output_type": "display_data"
    },
    {
     "data": {
      "text/html": [
       "<style>\n",
       ".list-inline {list-style: none; margin:0; padding: 0}\n",
       ".list-inline>li {display: inline-block}\n",
       ".list-inline>li:not(:last-child)::after {content: \"\\00b7\"; padding: 0 .5ex}\n",
       "</style>\n",
       "<ol class=list-inline><li>145</li><li>109</li><li>36</li><li>105</li></ol>\n"
      ],
      "text/latex": [
       "\\begin{enumerate*}\n",
       "\\item 145\n",
       "\\item 109\n",
       "\\item 36\n",
       "\\item 105\n",
       "\\end{enumerate*}\n"
      ],
      "text/markdown": [
       "1. 145\n",
       "2. 109\n",
       "3. 36\n",
       "4. 105\n",
       "\n",
       "\n"
      ],
      "text/plain": [
       "[1] 145 109  36 105"
      ]
     },
     "metadata": {},
     "output_type": "display_data"
    }
   ],
   "source": [
    "margin_rows<-margin.table(tmp_data,1)\n",
    "margin_cols<- margin.table(tmp_data,2)\n",
    "total<-sum(margin_rows)\n",
    "total\n",
    "margin_rows\n",
    "margin_cols"
   ]
  },
  {
   "cell_type": "code",
   "execution_count": 44,
   "metadata": {},
   "outputs": [
    {
     "data": {
      "text/html": [
       "3"
      ],
      "text/latex": [
       "3"
      ],
      "text/markdown": [
       "3"
      ],
      "text/plain": [
       "[1] 3"
      ]
     },
     "metadata": {},
     "output_type": "display_data"
    }
   ],
   "source": [
    "df <- (length(margin_rows)-1)*(length(margin_cols)-1)\n",
    "df"
   ]
  },
  {
   "cell_type": "code",
   "execution_count": 45,
   "metadata": {},
   "outputs": [
    {
     "data": {
      "text/html": [
       "<table class=\"dataframe\">\n",
       "<caption>A matrix: 2 × 4 of type dbl</caption>\n",
       "<tbody>\n",
       "\t<tr><td>68.64557</td><td>51.60253</td><td>17.04304</td><td>49.70886</td></tr>\n",
       "\t<tr><td>76.35443</td><td>57.39747</td><td>18.95696</td><td>55.29114</td></tr>\n",
       "</tbody>\n",
       "</table>\n"
      ],
      "text/latex": [
       "A matrix: 2 × 4 of type dbl\n",
       "\\begin{tabular}{llll}\n",
       "\t 68.64557 & 51.60253 & 17.04304 & 49.70886\\\\\n",
       "\t 76.35443 & 57.39747 & 18.95696 & 55.29114\\\\\n",
       "\\end{tabular}\n"
      ],
      "text/markdown": [
       "\n",
       "A matrix: 2 × 4 of type dbl\n",
       "\n",
       "| 68.64557 | 51.60253 | 17.04304 | 49.70886 |\n",
       "| 76.35443 | 57.39747 | 18.95696 | 55.29114 |\n",
       "\n"
      ],
      "text/plain": [
       "     [,1]     [,2]     [,3]     [,4]    \n",
       "[1,] 68.64557 51.60253 17.04304 49.70886\n",
       "[2,] 76.35443 57.39747 18.95696 55.29114"
      ]
     },
     "metadata": {},
     "output_type": "display_data"
    }
   ],
   "source": [
    "E = outer(margin_rows, margin_cols)/ total \n",
    "E"
   ]
  },
  {
   "cell_type": "code",
   "execution_count": 46,
   "metadata": {},
   "outputs": [
    {
     "data": {
      "text/html": [
       "4.93935154478053"
      ],
      "text/latex": [
       "4.93935154478053"
      ],
      "text/markdown": [
       "4.93935154478053"
      ],
      "text/plain": [
       "[1] 4.939352"
      ]
     },
     "metadata": {},
     "output_type": "display_data"
    }
   ],
   "source": [
    "chi2_temp <- (tmp_data - E)^2/E\n",
    "chi2 <- sum(chi2_temp)\n",
    "chi2"
   ]
  },
  {
   "cell_type": "code",
   "execution_count": 47,
   "metadata": {},
   "outputs": [
    {
     "data": {
      "text/html": [
       "11.3448667301444"
      ],
      "text/latex": [
       "11.3448667301444"
      ],
      "text/markdown": [
       "11.3448667301444"
      ],
      "text/plain": [
       "[1] 11.34487"
      ]
     },
     "metadata": {},
     "output_type": "display_data"
    }
   ],
   "source": [
    "cr_value<-qchisq(1 - alpha, df)\n",
    "cr_value"
   ]
  },
  {
   "cell_type": "code",
   "execution_count": 48,
   "metadata": {},
   "outputs": [
    {
     "data": {
      "text/html": [
       "TRUE"
      ],
      "text/latex": [
       "TRUE"
      ],
      "text/markdown": [
       "TRUE"
      ],
      "text/plain": [
       "[1] TRUE"
      ]
     },
     "metadata": {},
     "output_type": "display_data"
    }
   ],
   "source": [
    "chi2<cr_value"
   ]
  },
  {
   "cell_type": "markdown",
   "metadata": {},
   "source": [
    "Wartość naszej statystyki nie znajduje się w obszarze krytycznym, nie mamy więc podstaw do odrzucenia hipotezy $H_{0}$."
   ]
  },
  {
   "cell_type": "markdown",
   "metadata": {},
   "source": [
    "# Podsumowanie"
   ]
  },
  {
   "cell_type": "markdown",
   "metadata": {},
   "source": [
    "* Dane wybrane przez autora zawierały bardzo dużo informacji, grupa uczniów oraz liczba pytań była stosunkowo dużo. Znajdowały się w niej pytanie na które uczniowie odpowiadali w sposób binarny (Tak/Nie) lub też wybierając jedną z przewidzianych odpowiedzi. W zbiorze danych zabrakło danych typu ciągłego, co ograniczyło w pewien sposób możliwość pokazania wszystkich narzędzi analizy danych\n",
    "* Podczas procesu analizy danych został wykorzystany pewien podstawowy zbiór narzędzi statystycznych. Korzystaliśmy z funkcji $summary$ która zwraca podstawowe statystyki opisowe zbioru danych. Obliczaliśmy odchylenie standardowe, współczynnik asymetrii oraz momenty centralne zbioru danych. Wykorzystywaliśmy również współczynnik korelacji do określenie korelacji liniowej dwóch zestawów danych.\n",
    "* Pośród wykresów które zostały narysowane największą cześć stanowią histogramy. Taki stan rzeczy jest spowodowany dyskretną nautrą danych jakie zawiera nasza baza.\n",
    "* Podczas analizy została wylosowana pewna próbka uczniów i został przeprowadzony test statystyczny w odniesieniu do bazy danych jako populacji. Przeprowadziliśmy również test, traktujący nasze dane jako pewną próbkę, a za populację przyjeliśmy całą populacji posiłkując się zewnętrznymi danymi.\n",
    "* Do testowania hipotez użyliśmy testu dla średniej, testu dla proporcji oraz testu zależności dwóch relacji przy pomocy testu $\\chi^2$. \n"
   ]
  },
  {
   "cell_type": "code",
   "execution_count": null,
   "metadata": {},
   "outputs": [],
   "source": []
  }
 ],
 "metadata": {
  "kernelspec": {
   "display_name": "R",
   "language": "R",
   "name": "ir"
  },
  "language_info": {
   "codemirror_mode": "r",
   "file_extension": ".r",
   "mimetype": "text/x-r-source",
   "name": "R",
   "pygments_lexer": "r",
   "version": "3.5.2"
  }
 },
 "nbformat": 4,
 "nbformat_minor": 4
}
